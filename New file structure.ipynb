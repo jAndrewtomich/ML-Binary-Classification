{
 "cells": [
  {
   "cell_type": "code",
   "execution_count": 1,
   "metadata": {},
   "outputs": [],
   "source": [
    "#Taken from \"Deep Learning with Python\" by Francois Chollet\n",
    "import os, shutil\n",
    "\n",
    "original_dataset_dir = 'D:/ISBI-Data/test_image_set/'\n",
    "\n",
    "base_dir = 'D:/Deep-Learning/base_dir/'\n",
    "#os.mkdir(base_dir)"
   ]
  },
  {
   "cell_type": "code",
   "execution_count": 6,
   "metadata": {},
   "outputs": [],
   "source": [
    "train_dir = os.path.join(base_dir, 'train')\n",
    "os.mkdir(train_dir)\n",
    "validation_dir = os.path.join(base_dir, 'validation')\n",
    "os.mkdir(validation_dir)\n",
    "test_dir = os.path.join(base_dir, 'test')\n",
    "os.mkdir(test_dir)"
   ]
  },
  {
   "cell_type": "code",
   "execution_count": 3,
   "metadata": {},
   "outputs": [],
   "source": [
    "#test_dir = os.path.join(base_dir, 'test')\n",
    "#test_benign_dir = os.path.join(test_dir, 'benign')\n",
    "#test_malignant_dir = os.path.join(test_dir, 'malignant')"
   ]
  },
  {
   "cell_type": "code",
   "execution_count": 7,
   "metadata": {},
   "outputs": [],
   "source": [
    "train_benign_dir = os.path.join(train_dir, 'benign')\n",
    "os.mkdir(train_benign_dir)\n",
    "train_malignant_dir = os.path.join(train_dir, 'malignant')\n",
    "os.mkdir(train_malignant_dir)\n",
    "validation_benign_dir = os.path.join(validation_dir, 'benign')\n",
    "os.mkdir(validation_benign_dir)\n",
    "validation_malignant_dir = os.path.join(validation_dir, 'malignant')\n",
    "os.mkdir(validation_malignant_dir)\n",
    "test_benign_dir = os.path.join(test_dir, 'benign')\n",
    "os.mkdir(test_benign_dir)\n",
    "test_malignant_dir = os.path.join(test_dir, 'malignant')\n",
    "os.mkdir(test_malignant_dir)"
   ]
  },
  {
   "cell_type": "code",
   "execution_count": 8,
   "metadata": {},
   "outputs": [],
   "source": [
    "fnames = ['benign.{}.jpg'.format(i) for i in range(1090)]\n",
    "for fname in fnames:\n",
    "    src = os.path.join(original_dataset_dir + 'benign/', fname)\n",
    "    dst = os.path.join(train_benign_dir, fname)\n",
    "    shutil.copyfile(src, dst)"
   ]
  },
  {
   "cell_type": "code",
   "execution_count": 9,
   "metadata": {},
   "outputs": [],
   "source": [
    "fnames = ['benign.{}.jpg'.format(i) for i in range(1090, 2180)]\n",
    "for fname in fnames:\n",
    "    src = os.path.join(original_dataset_dir + 'benign/', fname)\n",
    "    dst = os.path.join(validation_benign_dir, fname)\n",
    "    shutil.copyfile(src, dst)"
   ]
  },
  {
   "cell_type": "code",
   "execution_count": 4,
   "metadata": {},
   "outputs": [],
   "source": [
    "fnames = ['benign.{}.jpg'.format(i) for i in range(304)]\n",
    "for fname in fnames:\n",
    "    src = os.path.join(original_dataset_dir + 'benign/', fname)\n",
    "    dst = os.path.join(test_benign_dir, fname)\n",
    "    shutil.copyfile(src, dst)"
   ]
  },
  {
   "cell_type": "code",
   "execution_count": 10,
   "metadata": {},
   "outputs": [],
   "source": [
    "fnames = ['malignant.{}.jpg'.format(i) for i in range(259)]\n",
    "for fname in fnames:\n",
    "    src = os.path.join(original_dataset_dir + 'malignant/', fname)\n",
    "    dst = os.path.join(train_malignant_dir, fname)\n",
    "    shutil.copyfile(src, dst)"
   ]
  },
  {
   "cell_type": "code",
   "execution_count": 11,
   "metadata": {},
   "outputs": [],
   "source": [
    "fnames = ['malignant.{}.jpg'.format(i) for i in range(259, 518)]\n",
    "for fname in fnames:\n",
    "    src = os.path.join(original_dataset_dir + 'malignant/', fname)\n",
    "    dst = os.path.join(validation_malignant_dir, fname)\n",
    "    shutil.copyfile(src, dst)"
   ]
  },
  {
   "cell_type": "code",
   "execution_count": 5,
   "metadata": {},
   "outputs": [],
   "source": [
    "fnames = ['malignant.{}.jpg'.format(i) for i in range(75)]\n",
    "for fname in fnames:\n",
    "    src = os.path.join(original_dataset_dir + 'malignant/', fname)\n",
    "    dst = os.path.join(test_malignant_dir, fname)\n",
    "    shutil.copyfile(src, dst)"
   ]
  },
  {
   "cell_type": "code",
   "execution_count": null,
   "metadata": {},
   "outputs": [],
   "source": []
  },
  {
   "cell_type": "code",
   "execution_count": null,
   "metadata": {},
   "outputs": [],
   "source": []
  }
 ],
 "metadata": {
  "kernelspec": {
   "display_name": "Python 3",
   "language": "python",
   "name": "python3"
  },
  "language_info": {
   "codemirror_mode": {
    "name": "ipython",
    "version": 3
   },
   "file_extension": ".py",
   "mimetype": "text/x-python",
   "name": "python",
   "nbconvert_exporter": "python",
   "pygments_lexer": "ipython3",
   "version": "3.8.5"
  }
 },
 "nbformat": 4,
 "nbformat_minor": 4
}
